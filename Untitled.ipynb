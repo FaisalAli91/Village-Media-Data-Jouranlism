{
 "cells": [
  {
   "cell_type": "markdown",
   "id": "bcdd83d8-e207-4ccb-bae2-2e849c70b246",
   "metadata": {},
   "source": [
    "# Census Analysis"
   ]
  },
  {
   "cell_type": "code",
   "execution_count": 1,
   "id": "61cf18c4-e4e7-4569-bd2e-559e71f853e4",
   "metadata": {},
   "outputs": [],
   "source": [
    "import pandas as pd\n",
    "import numpy as np\n",
    "\n",
    "# load matplotlib packages\n",
    "import matplotlib as mpl # The matplotlib package\n",
    "import matplotlib.pyplot as plt # pyplot sub package loaded for convenience\n",
    "from matplotlib.ticker import MultipleLocator,FormatStrFormatter,MaxNLocator # We will need functions from ticker sub package\n",
    "\n",
    "# mpl Defaults\n",
    "mpl.rcParams['pdf.fonttype'] = 42 # Change helps for use in Adobe Illustrator\n",
    "mpl.rcParams['ps.fonttype'] = 42 # Change helps for use in Adobe Illustrator\n",
    "mpl.rcParams['font.family'] = 'Arial' # In academia, prefer Arial\n",
    "\n"
   ]
  },
  {
   "cell_type": "code",
   "execution_count": null,
   "id": "7fca6e46-0af7-4db5-9e4c-c1338ec17349",
   "metadata": {},
   "outputs": [],
   "source": [
    "census_df = pd.read_csv(\"Census Data/98-401-X2021006_English_CSV_data_Ontario.csv\", encoding='latin-1')\n",
    "\n",
    "print(len(census_df),\n",
    "     census_df.columns)\n",
    "census_df.head()"
   ]
  },
  {
   "cell_type": "code",
   "execution_count": null,
   "id": "6bbfb3f9-642f-421f-b244-dcadbd769d61",
   "metadata": {},
   "outputs": [],
   "source": []
  }
 ],
 "metadata": {
  "kernelspec": {
   "display_name": "Python 3 (ipykernel)",
   "language": "python",
   "name": "python3"
  },
  "language_info": {
   "codemirror_mode": {
    "name": "ipython",
    "version": 3
   },
   "file_extension": ".py",
   "mimetype": "text/x-python",
   "name": "python",
   "nbconvert_exporter": "python",
   "pygments_lexer": "ipython3",
   "version": "3.9.16"
  }
 },
 "nbformat": 4,
 "nbformat_minor": 5
}
